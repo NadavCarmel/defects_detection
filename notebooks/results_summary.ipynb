{
 "cells": [
  {
   "cell_type": "code",
   "execution_count": 1,
   "id": "43d56729",
   "metadata": {},
   "outputs": [],
   "source": [
    "import cv2\n",
    "import numpy as np\n",
    "import pickle\n",
    "import sys\n",
    "\n",
    "sys.path.append('../src')\n",
    "from load_data import load_images_pairs  # function which loads the raw images\n",
    "\n",
    "# choose one of the 3 following alignment methods:\n",
    "# from align_by_phase_correlate import AlignByPhaseCorrelate as AlignAlgo\n",
    "# from align_by_convolutional_filter import AlignByConvolutionalFilter as AlignAlgo\n",
    "from align_by_ECC import AlignByECC as AlignAlgo"
   ]
  },
  {
   "cell_type": "code",
   "execution_count": 4,
   "id": "a542b894",
   "metadata": {},
   "outputs": [],
   "source": [
    "from inference import Inference"
   ]
  },
  {
   "cell_type": "code",
   "execution_count": 5,
   "id": "8678f88f",
   "metadata": {},
   "outputs": [
    {
     "name": "stdout",
     "output_type": "stream",
     "text": [
      "case1 inspected max_var: 0.0\n",
      "case1 reference max_var: 0.0\n",
      "case2 inspected max_var: 0.0\n",
      "case2 reference max_var: 0.0\n",
      "case3 inspected max_var: 0.0\n",
      "case3 reference max_var: 0.0\n",
      "\n",
      "start working on case1 alignment...\n",
      "\n",
      "start working on case2 alignment...\n",
      "\n",
      "start working on case3 alignment...\n",
      "done execution\n"
     ]
    }
   ],
   "source": [
    "inf = Inference()\n",
    "inf.run_all()"
   ]
  },
  {
   "cell_type": "code",
   "execution_count": null,
   "id": "5d0a7ea7",
   "metadata": {},
   "outputs": [],
   "source": []
  },
  {
   "cell_type": "code",
   "execution_count": null,
   "id": "2870ae42",
   "metadata": {},
   "outputs": [],
   "source": []
  },
  {
   "cell_type": "code",
   "execution_count": null,
   "id": "7024ebff",
   "metadata": {},
   "outputs": [],
   "source": []
  },
  {
   "cell_type": "code",
   "execution_count": null,
   "id": "4cb1e0e2",
   "metadata": {},
   "outputs": [],
   "source": []
  },
  {
   "cell_type": "code",
   "execution_count": 2,
   "id": "0e6ef847",
   "metadata": {},
   "outputs": [
    {
     "data": {
      "text/plain": [
       "{'mu_err_defects_mean': 130.83333333333334,\n",
       " 'sigma_err_defects_mean': 93.12128813405191,\n",
       " 'mu_err_non_defects_mean': 120.19747350975864,\n",
       " 'sigma_err_non_defects_mean': 112.13309830290757}"
      ]
     },
     "execution_count": 2,
     "metadata": {},
     "output_type": "execute_result"
    }
   ],
   "source": [
    "# load the detection model:\n",
    "with open('../results/model.pkl','rb') as f:\n",
    "    model = pickle.load(f)\n",
    "\n",
    "model"
   ]
  },
  {
   "cell_type": "code",
   "execution_count": 3,
   "id": "c5dce3b4",
   "metadata": {},
   "outputs": [
    {
     "name": "stdout",
     "output_type": "stream",
     "text": [
      "case1 inspected max_var: 0.0\n",
      "case1 reference max_var: 0.0\n",
      "case2 inspected max_var: 0.0\n",
      "case2 reference max_var: 0.0\n",
      "case3 inspected max_var: 0.0\n",
      "case3 reference max_var: 0.0\n",
      "\n",
      "start working on case1 alignment...\n",
      "\n",
      "start working on case2 alignment...\n",
      "\n",
      "start working on case3 alignment...\n"
     ]
    }
   ],
   "source": [
    "# load and align images (using the chosen algo):\n",
    "images = load_images_pairs() \n",
    "# compute aligned reference images per each case:\n",
    "aa = AlignAlgo()\n",
    "aligned_images = aa.run_all(images=images)"
   ]
  },
  {
   "cell_type": "code",
   "execution_count": null,
   "id": "bb6ecb37",
   "metadata": {},
   "outputs": [],
   "source": [
    "# claculate the difference arrays that \n",
    "for i, case in enumerate(aligned_images):\n",
    "    inspected = aligned_images[case]['inspected']\n",
    "    shifted_reference_image = aligned_images[case]['shifted_reference_image']\n",
    "    err = inspected - shifted_reference_image  # our diff array - will be used for the defects detection\n",
    "    aligned_images[case]['err'] = err  # add 'err' per each case to 'aligned_images'"
   ]
  },
  {
   "cell_type": "code",
   "execution_count": null,
   "id": "ef15f2c0",
   "metadata": {},
   "outputs": [],
   "source": []
  },
  {
   "cell_type": "code",
   "execution_count": null,
   "id": "8e105c43",
   "metadata": {},
   "outputs": [],
   "source": []
  },
  {
   "cell_type": "code",
   "execution_count": null,
   "id": "71e86312",
   "metadata": {},
   "outputs": [],
   "source": []
  },
  {
   "cell_type": "code",
   "execution_count": null,
   "id": "289d01fe",
   "metadata": {},
   "outputs": [],
   "source": []
  },
  {
   "cell_type": "code",
   "execution_count": null,
   "id": "11a847b3",
   "metadata": {},
   "outputs": [],
   "source": []
  }
 ],
 "metadata": {
  "kernelspec": {
   "display_name": "defects_detection_env",
   "language": "python",
   "name": "defects_detection_env"
  },
  "language_info": {
   "codemirror_mode": {
    "name": "ipython",
    "version": 3
   },
   "file_extension": ".py",
   "mimetype": "text/x-python",
   "name": "python",
   "nbconvert_exporter": "python",
   "pygments_lexer": "ipython3",
   "version": "3.7.4"
  }
 },
 "nbformat": 4,
 "nbformat_minor": 5
}
